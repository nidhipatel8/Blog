{
  "nbformat": 4,
  "nbformat_minor": 0,
  "metadata": {
    "colab": {
      "name": "MidtermLab.ipynb",
      "provenance": [],
      "collapsed_sections": [],
      "authorship_tag": "ABX9TyNIUHepcOaaBLw4vfBmk27m",
      "include_colab_link": true
    },
    "kernelspec": {
      "name": "python3",
      "display_name": "Python 3"
    },
    "language_info": {
      "name": "python"
    }
  },
  "cells": [
    {
      "cell_type": "markdown",
      "metadata": {
        "id": "view-in-github",
        "colab_type": "text"
      },
      "source": [
        "<a href=\"https://colab.research.google.com/github/nidhipatel8/Blog/blob/master/MidtermLabPart1.ipynb\" target=\"_parent\"><img src=\"https://colab.research.google.com/assets/colab-badge.svg\" alt=\"Open In Colab\"/></a>"
      ]
    },
    {
      "cell_type": "code",
      "execution_count": 2,
      "metadata": {
        "colab": {
          "base_uri": "https://localhost:8080/"
        },
        "id": "ODjolTAVHfUk",
        "outputId": "d28e95a8-3299-457a-9697-d9e4f538ed28"
      },
      "outputs": [
        {
          "output_type": "stream",
          "name": "stdout",
          "text": [
            "3D Matrix:  [[51, 58, 46], [65, 26, 58], [4, 49, 73]]\n"
          ]
        }
      ],
      "source": [
        "# PART I Write python programs by the functions in Numpy  \n",
        "\n",
        "#1 Create 3x3 matrix with random number elements\n",
        "\n",
        "import random\n",
        "Matrix = [[random.randint(0,100) for row in range(3)] for col in range(3)]\n",
        "print('3D Matrix: ', Matrix)"
      ]
    },
    {
      "cell_type": "code",
      "source": [
        "#2 Don’t change original array, substitute even numbers in it to -1, such as\n",
        " #a = [11, 12, 13, 14]\n",
        " #b = [11, -1, 13, -1]\n",
        "\n",
        "a = [11, 12, 13, 14]\n",
        "b = list(map(lambda x: -1 if x%2==0 else x, a))\n",
        "print('a: ', a)\n",
        "print('b: ', b)"
      ],
      "metadata": {
        "colab": {
          "base_uri": "https://localhost:8080/"
        },
        "id": "F9wSieh4JU4_",
        "outputId": "508253f8-2bd4-4cc3-c4ea-0dd641233e51"
      },
      "execution_count": 3,
      "outputs": [
        {
          "output_type": "stream",
          "name": "stdout",
          "text": [
            "a:  [11, 12, 13, 14]\n",
            "b:  [11, -1, 13, -1]\n"
          ]
        }
      ]
    },
    {
      "cell_type": "code",
      "source": [
        "#3 Extract the common elements from two arrays, like\n",
        "#a = [11,12, 13, 14] and b = [11,13, 15, 16]\n",
        "#c = [11, 13]\n",
        "\n",
        "a = [11, 12, 13, 14]\n",
        "b = [11, 13, 15, 16]\n",
        "c = list(filter(lambda x: x in b, a))\n",
        "print('a: ',a)\n",
        "print('b: ',b)\n",
        "print('c: ',c)"
      ],
      "metadata": {
        "colab": {
          "base_uri": "https://localhost:8080/"
        },
        "id": "Snk3KI8NJm69",
        "outputId": "2f070c18-927e-4600-eb06-f2f492c16a83"
      },
      "execution_count": 4,
      "outputs": [
        {
          "output_type": "stream",
          "name": "stdout",
          "text": [
            "a:  [11, 12, 13, 14]\n",
            "b:  [11, 13, 15, 16]\n",
            "c:  [11, 13]\n"
          ]
        }
      ]
    },
    {
      "cell_type": "code",
      "source": [
        "#4 Swap 2 rows in a 3x3 matrix\n",
        "\n",
        "import random\n",
        "M = [[random.randint(0,100) for row in range(3)] for col in range(3)]\n",
        "print('Before row replacement: ',M)\n",
        "row = 1\n",
        "row_replace = 2\n",
        "M[row], M[row_replace] = M[row_replace], M[row]\n",
        "print('After row replacement: ',M)"
      ],
      "metadata": {
        "colab": {
          "base_uri": "https://localhost:8080/"
        },
        "id": "y52npsShJ_B9",
        "outputId": "0694da02-8281-4063-e874-02e32d7ac028"
      },
      "execution_count": 5,
      "outputs": [
        {
          "output_type": "stream",
          "name": "stdout",
          "text": [
            "Before row replacement:  [[75, 86, 40], [44, 26, 35], [58, 39, 54]]\n",
            "After row replacement:  [[75, 86, 40], [58, 39, 54], [44, 26, 35]]\n"
          ]
        }
      ]
    },
    {
      "cell_type": "code",
      "source": [
        "#5 Calculate mean and standard deviation in an integer array\n",
        "\n",
        "import random\n",
        "from statistics import stdev, mean\n",
        "a = [random.randint(1,100) for _ in range(random.randint(0,20))]\n",
        "print('a: ',a)\n",
        "print('mean: ', mean(a))\n",
        "print('standard deviation:', stdev(a))\n",
        "\n"
      ],
      "metadata": {
        "colab": {
          "base_uri": "https://localhost:8080/"
        },
        "id": "DmzuR8BwKOx-",
        "outputId": "e1f7ce76-f51b-4a9a-ec93-43fd03357162"
      },
      "execution_count": 6,
      "outputs": [
        {
          "output_type": "stream",
          "name": "stdout",
          "text": [
            "a:  [96, 62, 42, 81, 21, 20, 40, 100, 9, 85, 33, 74, 12, 89, 98, 84, 66, 86, 99, 28]\n",
            "mean:  61.25\n",
            "standard deviation: 32.222703666498056\n"
          ]
        }
      ]
    },
    {
      "cell_type": "code",
      "source": [
        "#6 Convert string 'P' and 'NP' to number 0 and 1 respectively in a given 1d array, such as \n",
        "#a = [1, 2, 3, 'P', 4, 5, 6, 'NP']\n",
        "#b = [1, 2, 3, 0, 4, 5, 6, 1]\n",
        "\n",
        "a = [1, 2, 3, 'P', 4, 5, 6, 'NP']\n",
        "b = list(map(lambda x:0 if x=='P' else(1 if x=='NP' else x), a))\n",
        "print('a: ', a)\n",
        "print('b: ', b)"
      ],
      "metadata": {
        "colab": {
          "base_uri": "https://localhost:8080/"
        },
        "id": "7FqJjbucKgTD",
        "outputId": "b3ed5ff1-672a-4ff8-f9fb-1d076869aa90"
      },
      "execution_count": 7,
      "outputs": [
        {
          "output_type": "stream",
          "name": "stdout",
          "text": [
            "a:  [1, 2, 3, 'P', 4, 5, 6, 'NP']\n",
            "b:  [1, 2, 3, 0, 4, 5, 6, 1]\n"
          ]
        }
      ]
    }
  ]
}