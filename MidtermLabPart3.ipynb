{
  "nbformat": 4,
  "nbformat_minor": 0,
  "metadata": {
    "colab": {
      "name": "MidtermLabPart3.ipynb",
      "provenance": [],
      "authorship_tag": "ABX9TyNbBh/RnPFSgpm0A+2NbbEE",
      "include_colab_link": true
    },
    "kernelspec": {
      "name": "python3",
      "display_name": "Python 3"
    },
    "language_info": {
      "name": "python"
    }
  },
  "cells": [
    {
      "cell_type": "markdown",
      "metadata": {
        "id": "view-in-github",
        "colab_type": "text"
      },
      "source": [
        "<a href=\"https://colab.research.google.com/github/nidhipatel8/Blog/blob/master/MidtermLabPart3.ipynb\" target=\"_parent\"><img src=\"https://colab.research.google.com/assets/colab-badge.svg\" alt=\"Open In Colab\"/></a>"
      ]
    },
    {
      "cell_type": "code",
      "execution_count": 1,
      "metadata": {
        "colab": {
          "base_uri": "https://localhost:8080/"
        },
        "id": "wjpnWtgFNUn2",
        "outputId": "56627ef0-5281-4b07-9c4f-0d3dbefacc5b"
      },
      "outputs": [
        {
          "output_type": "stream",
          "name": "stdout",
          "text": [
            "      column1  column2  column3\n",
            "row1        0        1        2\n",
            "row2        3        4        5\n",
            "row3        6        7        8\n"
          ]
        }
      ],
      "source": [
        "# PART III reate python program from Pandas modules \n",
        "\n",
        "#9 Change 1d array from 0 to 8 to 3x3 dataframe(matrix)\n",
        "\n",
        "import numpy as np\n",
        "import pandas as pd\n",
        "A = np.array([0,1,2,3,4,5,6,7,8])\n",
        "B = np.reshape(A, (-1, 3))\n",
        "numpy_data = np.array(B)\n",
        "df = pd.DataFrame(data=numpy_data, index=[\"row1\", \"row2\",\"row3\"], columns=[\"column1\", \"column2\",\"column3\"])\n",
        "print(df)"
      ]
    },
    {
      "cell_type": "code",
      "source": [
        "#10 Calculate the Euclidean distance from two 1d arrays, such as \n",
        "#a = [1, 2, 3] and b = [4, 5, 6]\n",
        "\n",
        "from scipy.spatial import distance\n",
        "p1 = [1, 2, 3]\n",
        "p2 = [4, 5, 6]\n",
        "d = distance.euclidean(p1, p2)\n",
        "print(\"Euclidean distance: \",d)"
      ],
      "metadata": {
        "colab": {
          "base_uri": "https://localhost:8080/"
        },
        "id": "YKPzmJ5bOZLc",
        "outputId": "d8c0a2fd-90a6-4a05-8cde-4ac4ea8ea723"
      },
      "execution_count": 2,
      "outputs": [
        {
          "output_type": "stream",
          "name": "stdout",
          "text": [
            "Euclidean distance:  5.196152422706632\n"
          ]
        }
      ]
    },
    {
      "cell_type": "code",
      "source": [
        "#11 Only import odd number rows from a csv file\n",
        "\n",
        "import numpy as np\n",
        "import pandas as pd\n",
        "\n",
        "data = np.read_csv(r'\\IRIS.CSV')\n",
        "data = pd.DataFrame(data[::2])\n"
      ],
      "metadata": {
        "colab": {
          "base_uri": "https://localhost:8080/",
          "height": 365
        },
        "id": "LX9SyPJfPNtD",
        "outputId": "355cd213-8df9-465a-85be-65d0dae55b77"
      },
      "execution_count": 8,
      "outputs": [
        {
          "output_type": "error",
          "ename": "AttributeError",
          "evalue": "ignored",
          "traceback": [
            "\u001b[0;31m---------------------------------------------------------------------------\u001b[0m",
            "\u001b[0;31mAttributeError\u001b[0m                            Traceback (most recent call last)",
            "\u001b[0;32m<ipython-input-8-972ffba5eb51>\u001b[0m in \u001b[0;36m<module>\u001b[0;34m()\u001b[0m\n\u001b[1;32m      4\u001b[0m \u001b[0;32mimport\u001b[0m \u001b[0mpandas\u001b[0m \u001b[0;32mas\u001b[0m \u001b[0mpd\u001b[0m\u001b[0;34m\u001b[0m\u001b[0;34m\u001b[0m\u001b[0m\n\u001b[1;32m      5\u001b[0m \u001b[0;34m\u001b[0m\u001b[0m\n\u001b[0;32m----> 6\u001b[0;31m \u001b[0mdata\u001b[0m \u001b[0;34m=\u001b[0m \u001b[0mnp\u001b[0m\u001b[0;34m.\u001b[0m\u001b[0mread_csv\u001b[0m\u001b[0;34m(\u001b[0m\u001b[0;34mr'\\IRIS.CSV'\u001b[0m\u001b[0;34m)\u001b[0m\u001b[0;34m\u001b[0m\u001b[0;34m\u001b[0m\u001b[0m\n\u001b[0m\u001b[1;32m      7\u001b[0m \u001b[0mdata\u001b[0m \u001b[0;34m=\u001b[0m \u001b[0mpd\u001b[0m\u001b[0;34m.\u001b[0m\u001b[0mDataFrame\u001b[0m\u001b[0;34m(\u001b[0m\u001b[0mdata\u001b[0m\u001b[0;34m[\u001b[0m\u001b[0;34m:\u001b[0m\u001b[0;34m:\u001b[0m\u001b[0;36m2\u001b[0m\u001b[0;34m]\u001b[0m\u001b[0;34m)\u001b[0m\u001b[0;34m\u001b[0m\u001b[0;34m\u001b[0m\u001b[0m\n\u001b[1;32m      8\u001b[0m \u001b[0;31m#here filename will be replaced by the name of the file. [::2], means take every second element\u001b[0m\u001b[0;34m\u001b[0m\u001b[0;34m\u001b[0m\u001b[0;34m\u001b[0m\u001b[0m\n",
            "\u001b[0;32m/usr/local/lib/python3.7/dist-packages/numpy/__init__.py\u001b[0m in \u001b[0;36m__getattr__\u001b[0;34m(attr)\u001b[0m\n\u001b[1;32m    312\u001b[0m \u001b[0;34m\u001b[0m\u001b[0m\n\u001b[1;32m    313\u001b[0m             raise AttributeError(\"module {!r} has no attribute \"\n\u001b[0;32m--> 314\u001b[0;31m                                  \"{!r}\".format(__name__, attr))\n\u001b[0m\u001b[1;32m    315\u001b[0m \u001b[0;34m\u001b[0m\u001b[0m\n\u001b[1;32m    316\u001b[0m         \u001b[0;32mdef\u001b[0m \u001b[0m__dir__\u001b[0m\u001b[0;34m(\u001b[0m\u001b[0;34m)\u001b[0m\u001b[0;34m:\u001b[0m\u001b[0;34m\u001b[0m\u001b[0;34m\u001b[0m\u001b[0m\n",
            "\u001b[0;31mAttributeError\u001b[0m: module 'numpy' has no attribute 'read_csv'"
          ]
        }
      ]
    },
    {
      "cell_type": "code",
      "source": [
        "#12 Substitute all elements in diagonals to 0 in a 5x5 dataframe(matrix) \n",
        "\n",
        "import numpy as np\n",
        "import pandas as pd\n",
        "df = pd.DataFrame(np.random.rand(5,5))\n",
        "df.values[[np.arange(df.shape[0])]*2] = 0\n",
        "print(df)\n",
        "\n"
      ],
      "metadata": {
        "colab": {
          "base_uri": "https://localhost:8080/"
        },
        "id": "ECDaQ_N4RS-_",
        "outputId": "2df3a0e5-1f97-439b-e0b3-2798f1e49011"
      },
      "execution_count": 5,
      "outputs": [
        {
          "output_type": "stream",
          "name": "stdout",
          "text": [
            "          0         1         2         3         4\n",
            "0  0.000000  0.067455  0.005530  0.760562  0.144357\n",
            "1  0.182748  0.000000  0.858175  0.499602  0.811945\n",
            "2  0.134839  0.741072  0.000000  0.271669  0.989562\n",
            "3  0.130386  0.597699  0.550406  0.000000  0.531707\n",
            "4  0.444665  0.284388  0.321549  0.147157  0.000000\n"
          ]
        },
        {
          "output_type": "stream",
          "name": "stderr",
          "text": [
            "/usr/local/lib/python3.7/dist-packages/ipykernel_launcher.py:6: FutureWarning: Using a non-tuple sequence for multidimensional indexing is deprecated; use `arr[tuple(seq)]` instead of `arr[seq]`. In the future this will be interpreted as an array index, `arr[np.array(seq)]`, which will result either in an error or a different result.\n",
            "  \n"
          ]
        }
      ]
    },
    {
      "cell_type": "code",
      "source": [
        "#13 Separate a dataframe 80% to trainingset and 20% as testset\n",
        "\n",
        "split <- round(nrow(mydata) * 0.80\n",
        "\n",
        "#create a training set called train using that index\n",
        "\n",
        "mydata[1 : split , ]\n",
        "\n",
        "#create a test set called tesr using that index\n",
        "\n",
        "mydata [(split + 1): nrow(mydata) , ]\n"
      ],
      "metadata": {
        "id": "mzDOi02WT1pJ"
      },
      "execution_count": null,
      "outputs": []
    }
  ]
}